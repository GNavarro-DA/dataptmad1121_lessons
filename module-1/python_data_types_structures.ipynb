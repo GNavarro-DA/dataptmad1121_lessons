{
 "cells": [
  {
   "cell_type": "markdown",
   "id": "74222d4c",
   "metadata": {},
   "source": [
    "# Data Types\n",
    "\n",
    "- __String__\n",
    "    \n",
    "- __Integer__\n",
    "    \n",
    "- __Float__\n",
    "\n",
    "- __Boolean__"
   ]
  },
  {
   "cell_type": "code",
   "execution_count": 6,
   "id": "00de4c17",
   "metadata": {},
   "outputs": [
    {
     "name": "stdout",
     "output_type": "stream",
     "text": [
      "ironhack\n"
     ]
    },
    {
     "data": {
      "text/plain": [
       "str"
      ]
     },
     "execution_count": 6,
     "metadata": {},
     "output_type": "execute_result"
    }
   ],
   "source": [
    "# String\n",
    "\n",
    "var = 'ironhack'\n",
    "#var = 1\n",
    "#var = var[:4]\n",
    "\n",
    "print(var)\n",
    "type(var)"
   ]
  },
  {
   "cell_type": "code",
   "execution_count": 7,
   "id": "b585d9ea",
   "metadata": {},
   "outputs": [
    {
     "name": "stdout",
     "output_type": "stream",
     "text": [
      "<class 'int'>\n",
      "<class 'int'>\n",
      "<class 'float'>\n",
      "<class 'int'>\n",
      "<class 'float'>\n"
     ]
    }
   ],
   "source": [
    "# integer and float\n",
    "\n",
    "x = 10\n",
    "y = 2\n",
    "z = x / y #El resultado de esta operación siempre va a ser devuelto como float aunque el resultado sea 2\n",
    "#Para que sea int habria que poner dos // en la operación o realizar el paso siguiente: \n",
    "i = int(z)\n",
    "f = float(i)\n",
    "\n",
    "print(type(x))\n",
    "print(type(y))\n",
    "print(type(z))\n",
    "print(type(i))\n",
    "print(type(f))"
   ]
  },
  {
   "cell_type": "code",
   "execution_count": 13,
   "id": "302fa4d1",
   "metadata": {},
   "outputs": [
    {
     "name": "stdout",
     "output_type": "stream",
     "text": [
      "8\n",
      "<class 'int'>\n"
     ]
    }
   ],
   "source": [
    "#True or False are always translated into 1 or 0. \n",
    "#True = 1\n",
    "#False = 0\n",
    "#Strings will always be True. \n",
    "#The last product of this cell, the result is 8 because the result of the boolean is True, then 1*8=8\n",
    "\n",
    "\n",
    "bvar = True\n",
    "bvar = bool()\n",
    "bvar = bool(1) \n",
    "bvar = bool(0)\n",
    "bvar = bool('1')\n",
    "bvar = bool('0')\n",
    "bvar = bool('0') * 8\n",
    "\n",
    "print(bvar)\n",
    "print(type(bvar))"
   ]
  },
  {
   "cell_type": "markdown",
   "id": "1c25590f",
   "metadata": {},
   "source": [
    "# Data Structures\n",
    "\n",
    "- __Tuple__\n",
    "    \n",
    "- __List__\n",
    "    \n",
    "- __Dict__\n",
    "\n",
    "- __Set__"
   ]
  },
  {
   "cell_type": "code",
   "execution_count": 20,
   "id": "0ee5a3c7",
   "metadata": {},
   "outputs": [
    {
     "name": "stdout",
     "output_type": "stream",
     "text": [
      "<class 'tuple'>\n",
      "True\n",
      "<class 'bool'>\n",
      "2\n",
      "0\n"
     ]
    }
   ],
   "source": [
    "# Tuples are immutables: Tuples don't have the same methods than lists for change them. \n",
    "# Always with parenthesis, items separated by commas. \n",
    "\n",
    "my_tuple = (1, '1', True, ['dog', 'cat'])\n",
    "\n",
    "#Some of the methods that can be used in tuples: \n",
    "print(type(my_tuple))\n",
    "print(my_tuple[2])\n",
    "print(type(my_tuple[2]))\n",
    "print(my_tuple.count(1)) #Method.count() is used for counting how many items are in the tuple matching the conditions inside the parenthesis\n",
    "#In this case, the result is 2 because True = 1!!!! \n",
    "print(my_tuple.index(1)) #Method.index() is used to check the position of the FIRST item that matches the condition of the argument"
   ]
  },
  {
   "cell_type": "code",
   "execution_count": null,
   "id": "270f4d77",
   "metadata": {},
   "outputs": [],
   "source": [
    "# lists or arrays\n",
    "#Here same methods than with tuples\n",
    "my_array = [1, '1', True, ('dog', 'cat')]\n",
    "\n",
    "print(type(my_array))\n",
    "print(my_array[2])\n",
    "print(type(my_array[3]))\n",
    "print(my_array.count(0))\n",
    "print(my_array.index(1))"
   ]
  },
  {
   "cell_type": "code",
   "execution_count": 31,
   "id": "ee4da235",
   "metadata": {},
   "outputs": [
    {
     "name": "stdout",
     "output_type": "stream",
     "text": [
      "['tardigrade', 'platypus', 'platypus', ('dog', 'cat'), True, '1', 'platypus', 1]\n"
     ]
    }
   ],
   "source": [
    "# lists mutation methods\n",
    "#Methods that can be used with lists but not with tuples\n",
    "my_array = [1, '1', True, ('dog', 'cat')]\n",
    "\n",
    "my_array.append('platypus') \n",
    "#The .append() method has no return. That's why we cannot assess the length of one array like this: \n",
    "'''\n",
    "my_array2 = my_array.append('hola')\n",
    "print(len(my_array2))  \n",
    "\n",
    "The result of that code is an error, because the type of the var is not list, is notype, because the result of the\n",
    "method is \"none\"\n",
    "'''\n",
    "my_array.extend(['platypus', 'tardigrade']) #This method adds the items of a iterable object as separate elements of the list\n",
    "# If you want to add the list ['hola', 'mundo'] by using the .append method, the item added is the full list (with brackets)\n",
    "#If we want to add the same but using the .extend method, the items will be add to our list but not as a list object but as independet items\n",
    "\n",
    "my_array.insert(1,'platypus') #This adds the item \"platypus\" in the position 1. \n",
    "my_array.pop(True) #This deletes the item that are located in the postion of the argument. Important! .pop method has as a return! \n",
    "my_array.remove(True) #This deletes the specific item \n",
    "my_array.reverse() # sort the items reversely\n",
    "\n",
    "#my_array.sort() #order the items if possible. Now this give us an error, because the type of the items \n",
    "#my_array.clear() #delete all items of the list\n",
    "#my_list = my_array.copy() #create a copy of a list, but without deleting the original one! \n",
    "#The code my_list = my_array is \"like\" both list as sync so each change in my_array will affect also to my_list\n",
    "#See the next cell as example\n",
    "\n",
    "#print(len(my_array))\n",
    "#print(my_list)\n",
    "print(my_array)"
   ]
  },
  {
   "cell_type": "code",
   "execution_count": 33,
   "id": "50057c3a",
   "metadata": {},
   "outputs": [
    {
     "name": "stdout",
     "output_type": "stream",
     "text": [
      "[1, 2, 3, 4, 'Hola']\n",
      "[1, 2, 3, 4]\n"
     ]
    }
   ],
   "source": [
    "array = [1,2,3,4]\n",
    "my_list = array.copy()\n",
    "\n",
    "array.append(\"Hola\")\n",
    "print(array)\n",
    "print(my_list)"
   ]
  },
  {
   "cell_type": "code",
   "execution_count": 35,
   "id": "af97d466",
   "metadata": {},
   "outputs": [
    {
     "name": "stdout",
     "output_type": "stream",
     "text": [
      "value\n",
      "3\n",
      "dict_keys(['key1', 'key2', 'key3'])\n",
      "dict_values(['ironhack', 1981, ['platypus', 'tardigrade']])\n"
     ]
    },
    {
     "data": {
      "text/plain": [
       "{'key1': 'ironhack', 'key2': 1981, 'key3': ['platypus', 'tardigrade']}"
      ]
     },
     "execution_count": 35,
     "metadata": {},
     "output_type": "execute_result"
    }
   ],
   "source": [
    "# Dicts\n",
    "\n",
    "my_dict = {'key1': 'value', 'key2': 1981, 'key3': ['platypus', 'tardigrade']}\n",
    "\n",
    "print(my_dict['key1'])\n",
    "my_dict['key1'] = 'ironhack' #This is used to reasign a new value for a existing key o create a new one \n",
    "\n",
    "print(len(my_dict))\n",
    "print(my_dict.keys())\n",
    "print(my_dict.values())\n",
    "my_dict"
   ]
  },
  {
   "cell_type": "code",
   "execution_count": 36,
   "id": "3bccd749",
   "metadata": {},
   "outputs": [
    {
     "name": "stdout",
     "output_type": "stream",
     "text": [
      "key1\n",
      "key2\n",
      "key3\n",
      "ironhack\n",
      "1981\n",
      "['platypus', 'tardigrade']\n",
      "key1 ironhack\n",
      "key2 1981\n",
      "key3 ['platypus', 'tardigrade']\n"
     ]
    }
   ],
   "source": [
    "for i in my_dict.keys():\n",
    "     print(i)\n",
    "        \n",
    "for i in my_dict.values():\n",
    "    print(i)\n",
    "    \n",
    "for k, v in my_dict.items(): #This is for iterate in the Dict Items (pair key:value)\n",
    "     print(k, v)"
   ]
  },
  {
   "cell_type": "code",
   "execution_count": 57,
   "id": "e5254239",
   "metadata": {},
   "outputs": [
    {
     "name": "stdout",
     "output_type": "stream",
     "text": [
      "{'Joanna', 'Madison', 'Mary', 'Logan'}\n",
      "{'John', 'Madison', 'Logan', 'Alexander'}\n"
     ]
    }
   ],
   "source": [
    "# Sets NON-MUTABLE\n",
    "# Sets are lists with non-repeatable elements! \n",
    "# Notice that if we run the following code, repeated items are deleted and parenthesis are replaced by curly braces\n",
    "girl_names = set(['Mary', 'Madison', 'Logan', 'Joanna', 'Madison', 'Logan', 'Joanna'])\n",
    "boy_names = set(['John', 'Alexander', 'Logan', 'Madison', 'Alexander', 'Logan'])\n",
    "print(girl_names)\n",
    "print(boy_names)"
   ]
  },
  {
   "cell_type": "code",
   "execution_count": 58,
   "id": "118518ce",
   "metadata": {},
   "outputs": [
    {
     "name": "stdout",
     "output_type": "stream",
     "text": [
      "{'Madison', 'Logan'}\n"
     ]
    }
   ],
   "source": [
    "# Sets intersection\n",
    "unisex_names = girl_names.intersection(boy_names) #Elements that appear in both two set or set and list\n",
    "#notice that the method .intersection() should be applied to a set, but the argument inside the parenthesis could be a list\n",
    "print(unisex_names)"
   ]
  },
  {
   "cell_type": "code",
   "execution_count": 59,
   "id": "7c21b7cb",
   "metadata": {},
   "outputs": [
    {
     "name": "stdout",
     "output_type": "stream",
     "text": [
      "{'John', 'Mary', 'Joanna', 'Logan', 'Madison', 'Alexander'}\n"
     ]
    }
   ],
   "source": [
    "# Sets union\n",
    "all_names = boy_names.union(girl_names)\n",
    "print(all_names)"
   ]
  },
  {
   "cell_type": "code",
   "execution_count": 60,
   "id": "a566a1e2",
   "metadata": {},
   "outputs": [
    {
     "name": "stdout",
     "output_type": "stream",
     "text": [
      "{'John', 'Alexander'}\n"
     ]
    }
   ],
   "source": [
    "# Sets filtering\n",
    "# Oposite than Intersection. Return names in set boy_names that are not in set girl_names\n",
    "boy_only_names = boy_names - girl_names\n",
    "print(boy_only_names)"
   ]
  },
  {
   "cell_type": "code",
   "execution_count": null,
   "id": "f08797f2",
   "metadata": {},
   "outputs": [],
   "source": []
  }
 ],
 "metadata": {
  "kernelspec": {
   "display_name": "Python [conda env:ironhack]",
   "language": "python",
   "name": "conda-env-ironhack-py"
  },
  "language_info": {
   "codemirror_mode": {
    "name": "ipython",
    "version": 3
   },
   "file_extension": ".py",
   "mimetype": "text/x-python",
   "name": "python",
   "nbconvert_exporter": "python",
   "pygments_lexer": "ipython3",
   "version": "3.7.11"
  }
 },
 "nbformat": 4,
 "nbformat_minor": 5
}
