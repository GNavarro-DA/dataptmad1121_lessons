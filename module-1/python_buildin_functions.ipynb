{
 "cells": [
  {
   "cell_type": "markdown",
   "id": "fbe26829",
   "metadata": {},
   "source": [
    "# Built-in Functions\n",
    "\n",
    "https://docs.python.org/3.7/library/functions.html\n",
    "\n",
    "- __enumerate(iterable, start=0)__\n",
    "    \n",
    "- __input([prompt])__\n",
    "    \n",
    "- __isinstance(object, classinfo)__\n",
    "\n",
    "- __sum(iterable[, start])__\n",
    "\n",
    "- __range(start, stop[, step])__\n",
    "\n",
    "- __map(function, iterable, ...)__"
   ]
  },
  {
   "cell_type": "code",
   "execution_count": 2,
   "id": "2a44b912",
   "metadata": {},
   "outputs": [
    {
     "name": "stdout",
     "output_type": "stream",
     "text": [
      "1 enumerate\n",
      "2 45\n",
      "3 ('key', 'value')\n"
     ]
    }
   ],
   "source": [
    "# https://docs.python.org/3.7/library/functions.html#enumerate\n",
    "\n",
    "values = ['enumerate', 45, ('key','value')]\n",
    "\n",
    "for count, value in enumerate(values): #enumarate is a function that get the value and its position. \n",
    "    print(count, value)\n",
    "    \n",
    "#You can add another argument enumerate(values, x) beaing the x the number in which it will start to count"
   ]
  },
  {
   "cell_type": "code",
   "execution_count": 3,
   "id": "9f31673c",
   "metadata": {},
   "outputs": [
    {
     "name": "stdout",
     "output_type": "stream",
     "text": [
      "Enter a value here --> hola\n"
     ]
    },
    {
     "data": {
      "text/plain": [
       "'The value is hola'"
      ]
     },
     "execution_count": 3,
     "metadata": {},
     "output_type": "execute_result"
    }
   ],
   "source": [
    "# https://docs.python.org/3.7/library/functions.html#input\n",
    "\n",
    "value = input('Enter a value here --> ')\n",
    "f'The value is {value}'"
   ]
  },
  {
   "cell_type": "code",
   "execution_count": 7,
   "id": "65a5d1b8",
   "metadata": {},
   "outputs": [
    {
     "name": "stdout",
     "output_type": "stream",
     "text": [
      "Data type is correct\n"
     ]
    }
   ],
   "source": [
    "# https://docs.python.org/3.7/library/functions.html#isinstance\n",
    "\n",
    "value = 5\n",
    "\n",
    "if isinstance(value, int): #Check if the element of value is of the type specified.  \n",
    "    print('Data type is correct')\n",
    "else:\n",
    "    print('FATAL ERROR CALL HOUSTON ASAP!!!')"
   ]
  },
  {
   "cell_type": "code",
   "execution_count": 15,
   "id": "a96e1720",
   "metadata": {},
   "outputs": [
    {
     "data": {
      "text/plain": [
       "10"
      ]
     },
     "execution_count": 15,
     "metadata": {},
     "output_type": "execute_result"
    }
   ],
   "source": [
    "# https://docs.python.org/3.7/library/functions.html#sum\n",
    "\n",
    "my_values = [1, 2, 3, 4]\n",
    "\n",
    "sum(my_values)\n",
    "\n",
    "#this function allows another argument sum(my_values, start) being start the starting number of the sum. \n",
    "#If we write the number 100, the initial value of the sum is 100 and then we add +1 +2 +3 +4. So the result is 110. \n"
   ]
  },
  {
   "cell_type": "code",
   "execution_count": 20,
   "id": "5c3dc2bb",
   "metadata": {},
   "outputs": [
    {
     "name": "stdout",
     "output_type": "stream",
     "text": [
      "400___529___676___841___1024___1225___1444___1681___1936___2209___2500___2809___3136___3481___3844___4225___4624___5041___5476___5929___6400___6889___7396___7921___8464___9025___9604___10201___10816___11449___12100___12769___13456___14161___14884___15625___16384___17161___17956___18769___19600___20449___21316___22201___23104___24025___24964___25921___26896___27889___28900___29929___30976___32041___33124___34225___35344___36481___37636___38809___"
     ]
    }
   ],
   "source": [
    "# https://docs.python.org/3.7/library/functions.html#func-range\n",
    "\n",
    "for i in range(20, 200, 3): #(starting number, end number, steps), in this case from 20 to 200 3 by 3. \n",
    "    print(i * i, end='___')"
   ]
  },
  {
   "cell_type": "code",
   "execution_count": null,
   "id": "011b542e",
   "metadata": {},
   "outputs": [],
   "source": [
    "#Arguments for print: \n",
    "#print(object, sep=' ', end=' ', file=????, flush=False)\n",
    "#sep indicates the way in which the printed items are going to be separated\n",
    "#end indicates the way in which the print function will end. By default is'\\n' \n",
    "#file i don't know\n",
    "#flush: affect the buffer. For example if you have a print and after that a sleep(5), we will not see the print until the sleep time is completed\n",
    "#IF we change flush=True, we will see the print message and then we will have to wait 5 seconds to continue. "
   ]
  },
  {
   "cell_type": "code",
   "execution_count": 21,
   "id": "fa5de128",
   "metadata": {},
   "outputs": [
    {
     "data": {
      "text/plain": [
       "[\"LET'S\", 'TAKE', 'A', 'BREAK']"
      ]
     },
     "execution_count": 21,
     "metadata": {},
     "output_type": "execute_result"
    }
   ],
   "source": [
    "# https://docs.python.org/3.7/library/functions.html#map\n",
    "\n",
    "#we will see these functions during next classes. \n",
    "#map has two arguments: a lambda function and an iterable object. \n",
    "#lambda is useful to create functions inside other methods. \n",
    "\n",
    "my_words = [\"let's\", \"take\", \"a\", \"break\"]\n",
    "\n",
    "my_message = map(lambda word: word.upper(), my_words)\n",
    "list(my_message)"
   ]
  },
  {
   "cell_type": "code",
   "execution_count": null,
   "id": "93f12c42",
   "metadata": {},
   "outputs": [],
   "source": []
  }
 ],
 "metadata": {
  "kernelspec": {
   "display_name": "Python [conda env:ironhack]",
   "language": "python",
   "name": "conda-env-ironhack-py"
  },
  "language_info": {
   "codemirror_mode": {
    "name": "ipython",
    "version": 3
   },
   "file_extension": ".py",
   "mimetype": "text/x-python",
   "name": "python",
   "nbconvert_exporter": "python",
   "pygments_lexer": "ipython3",
   "version": "3.7.11"
  }
 },
 "nbformat": 4,
 "nbformat_minor": 5
}
